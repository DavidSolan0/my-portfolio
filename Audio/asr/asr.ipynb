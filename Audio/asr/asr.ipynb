{
 "cells": [
  {
   "cell_type": "raw",
   "id": "fc9321ce",
   "metadata": {},
   "source": [
    "!pip install datasets\n",
    "!pip install transformers\n",
    "!pip install torchaudio\n",
    "!pip install librosa\n",
    "!pip install jiwer"
   ]
  },
  {
   "cell_type": "code",
   "execution_count": 1,
   "id": "4f6b57a0",
   "metadata": {},
   "outputs": [],
   "source": [
    "import os \n",
    "\n",
    "os.chdir('C:/Users/David.Solano/OneDrive - Ipsos/Ipsos/Analisis de Audio/Piloto_180522')"
   ]
  },
  {
   "cell_type": "markdown",
   "id": "e4979a81",
   "metadata": {},
   "source": [
    "## ASR \n",
    "\n",
    "Between a bunch of options I consider facebook model is the more accurate because of the volumen of data. However [here](https://huggingface.co/models?language=es&pipeline_tag=automatic-speech-recognition&sort=downloads) there are other alternatives to explore. "
   ]
  },
  {
   "cell_type": "code",
   "execution_count": 2,
   "id": "d09152a6",
   "metadata": {},
   "outputs": [],
   "source": [
    "import torchaudio\n",
    "from datasets import load_dataset, load_metric\n",
    "from transformers import Wav2Vec2ForCTC, Wav2Vec2Processor\n",
    "import torch\n",
    "import re\n",
    "import sys\n",
    "\n",
    "model_name = 'jonatasgrosman/wav2vec2-large-xlsr-53-spanish'\n",
    "#model_name = \"facebook/wav2vec2-large-xlsr-53-spanish\"\n",
    "device = \"cuda\"\n",
    "\n",
    "chars_to_ignore_regex = '[\\,\\?\\.\\!\\-\\;\\:\\\"]'  # noqa: W605\n",
    "\n",
    "model = Wav2Vec2ForCTC.from_pretrained(model_name)#.to(device)\n",
    "processor = Wav2Vec2Processor.from_pretrained(model_name)\n",
    "\n",
    "#ds = load_dataset(\"common_voice\", \"es\", split=\"test[:1%]\", data_dir=\"./cv-corpus-6.1-2020-12-11\")\n",
    "\n",
    "resampler = torchaudio.transforms.Resample(orig_freq=48_000, new_freq=16_000)"
   ]
  },
  {
   "cell_type": "markdown",
   "id": "b222521b",
   "metadata": {},
   "source": [
    "### For a list of paths\n",
    "\n",
    "If we have a list of path the code will be as follows: "
   ]
  },
  {
   "cell_type": "code",
   "execution_count": null,
   "id": "65500400",
   "metadata": {},
   "outputs": [],
   "source": [
    "folder = './BASES/'\n",
    "\n",
    "paths = os.listdir(folder)\n",
    "audios = dict()\n",
    "audios['path'] = [folder + path for path in paths]"
   ]
  },
  {
   "cell_type": "code",
   "execution_count": 8,
   "id": "fdcf905b",
   "metadata": {},
   "outputs": [
    {
     "data": {
      "application/vnd.jupyter.widget-view+json": {
       "model_id": "65c8a11dea124869be6255f5fc3d2d86",
       "version_major": 2,
       "version_minor": 0
      },
      "text/plain": [
       "  0%|          | 0/5 [00:00<?, ?ex/s]"
      ]
     },
     "metadata": {},
     "output_type": "display_data"
    }
   ],
   "source": [
    "import pyarrow as pa\n",
    "import pyarrow.dataset as ds\n",
    "import pandas as pd\n",
    "from datasets import Dataset\n",
    "\n",
    "df = pd.DataFrame(audios)\n",
    "dataset = ds.dataset(pa.Table.from_pandas(df).to_batches())\n",
    "\n",
    "\n",
    "hg_audio_dataset = Dataset(pa.Table.from_pandas(df))\n",
    "\n",
    "\n",
    "def map_to_array(batch):\n",
    "    speech, _ = torchaudio.load(batch[\"path\"])\n",
    "    batch[\"speech\"] = resampler.forward(speech[0].squeeze(0)).numpy()\n",
    "    batch[\"sampling_rate\"] = resampler.new_freq\n",
    "    return batch\n",
    "\n",
    "hg_audio_dataset = hg_audio_dataset.map(map_to_array)"
   ]
  },
  {
   "cell_type": "code",
   "execution_count": 9,
   "id": "b194ac91",
   "metadata": {},
   "outputs": [
    {
     "data": {
      "application/vnd.jupyter.widget-view+json": {
       "model_id": "633a63e2560c414a89a8f87c5b4d7b65",
       "version_major": 2,
       "version_minor": 0
      },
      "text/plain": [
       "  0%|          | 0/1 [00:00<?, ?ba/s]"
      ]
     },
     "metadata": {},
     "output_type": "display_data"
    },
    {
     "name": "stdout",
     "output_type": "stream",
     "text": [
      "Wall time: 32min 22s\n"
     ]
    }
   ],
   "source": [
    "%%time\n",
    "def map_to_pred(batch):\n",
    "    features = processor(batch[\"speech\"], sampling_rate=batch[\"sampling_rate\"][0], padding=True, return_tensors=\"pt\")\n",
    "    input_values = features.input_values#.to(device)\n",
    "    attention_mask = features.attention_mask#.to(device)\n",
    "    with torch.no_grad():\n",
    "        logits = model(input_values, attention_mask=attention_mask).logits\n",
    "    pred_ids = torch.argmax(logits, dim=-1)\n",
    "    batch[\"predicted\"] = processor.batch_decode(pred_ids)\n",
    "    return batch\n",
    "\n",
    "result = hg_audio_dataset.map(map_to_pred, batched=True, batch_size=16, remove_columns=list(hg_audio_dataset.features.keys()))"
   ]
  },
  {
   "cell_type": "code",
   "execution_count": 10,
   "id": "489a5e65",
   "metadata": {},
   "outputs": [
    {
     "data": {
      "text/plain": [
       "['se lo daremos  señor y después la corona de españa',\n",
       " 'llevas crema protectora',\n",
       " 'bueno esto es unáurea prueba intentado descubrir que pasa con esto despech reconnition esperamos que todos halla bien os probar diferentes longitudes de audio por ejemplo esperamos que es dobdre treinta segundos y o saber que también hace la transcripción este modelito prueba número',\n",
       " 'estoy raro amor ni siquierase que hablar aatayores dando el días carrrisstoy ramor no metiera do este aore sólo con que nobajo los ánimos apeopepuesto a escribir eso que te dije de de del texto en ingles  porque nunco se conocé como mejorarlo pero bueno al menos estoy practicando ya toela ahla charlalan la capacitación co angela y jayro eguros volivaroor se nos fueron como cuatro horas entonces angelamejo como mínimo pide ocho yo creque laba pedir unas doce horas contando como las cosas que yo antes usa para justificar como un poquito más de un día laboral ya porque sibujar stras cosas yo no sehjayrusili ha trabajado eso no porque se me hacía curioso que no sabía como meterle los datos y se supone que ya tenía las modificaciones para udir otros modelo a produccion yos dia pero como atener las modificacion estímulas aprobado como lprobarsi nolemite datos fuy raro pero bueno e yyan te cue interetado de prepararno siempre asitocarle a spuritar unas papitas mexedía hablando amor',\n",
       " 'alejandro permanecía invisible y martín se refugiaba en la compañía de bruno fueron tiempos de tristeza meditativa todavía nohabían llegado los días de caótica y tenebrosa tristeza parecía el ánimo adecuado a aquel otoño de buenos aires otoño no sólo de hojas secas y de cielos grises y de lovisnas sino también de desconcierto de neblinoso desconento todos estaban recelosos de todos las gentes hablaban lenguajes diferentes los corazones nolatin al mismo tiempo como suceden ciertas guerras nacionales en ciertas glorias colectivashabía dos naciones en el mismo país y estas naciones eran mortales enemigas se observaban tororbamente estaban resentidas entre sí y martín que se sentía solo se interrogaba sobre todo sobre la vida de la muerte sobre el amor y el absoluto sobre su país sobre el destino del hombre en general pero ninguna de estas reflexiones era pura sino que inevitablemente se hacía sobre palabras y recuerdos de alejandra al r de sus ojos gris verdosos sobre el fondo de sus edeexpresión recores y contradictoria y de pronto parecía como si ella fuera la patria no a quella mujer hermosa pero convencional de es grabados simbólicos']"
      ]
     },
     "execution_count": 10,
     "metadata": {},
     "output_type": "execute_result"
    }
   ],
   "source": [
    "result['predicted']"
   ]
  }
 ],
 "metadata": {
  "kernelspec": {
   "display_name": "Python 3 (ipykernel)",
   "language": "python",
   "name": "python3"
  },
  "language_info": {
   "codemirror_mode": {
    "name": "ipython",
    "version": 3
   },
   "file_extension": ".py",
   "mimetype": "text/x-python",
   "name": "python",
   "nbconvert_exporter": "python",
   "pygments_lexer": "ipython3",
   "version": "3.7.11"
  }
 },
 "nbformat": 4,
 "nbformat_minor": 5
}
